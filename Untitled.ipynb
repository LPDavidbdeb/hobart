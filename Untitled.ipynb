{
 "cells": [
  {
   "cell_type": "code",
   "execution_count": 1,
   "id": "b4196ad4-bd21-4dd5-9160-59cbef609126",
   "metadata": {},
   "outputs": [
    {
     "name": "stdout",
     "output_type": "stream",
     "text": [
      "Loading Django application...\n",
      "Django application loaded successfully!\n"
     ]
    }
   ],
   "source": [
    "import os\n",
    "import sys\n",
    "from django.core.wsgi import get_wsgi_application\n",
    "\n",
    "# Add the project root to the Python path\n",
    "project_path = '/Users/louis-philippedavid/Sites/Hobart'\n",
    "if project_path not in sys.path:\n",
    "    sys.path.append(project_path)\n",
    "\n",
    "# Point to the settings file manage.py uses\n",
    "os.environ.setdefault('DJANGO_SETTINGS_MODULE', 'Hobart.settings.local')\n",
    "\n",
    "# This is the magic. It uses the same entrypoint as your web server\n",
    "# to ensure the entire application is loaded correctly.\n",
    "print(\"Loading Django application...\")\n",
    "application = get_wsgi_application()\n",
    "print(\"Django application loaded successfully!\")"
   ]
  },
  {
   "cell_type": "code",
   "execution_count": 2,
   "id": "ea27dc05-6cd7-4192-8b24-bae72f9cf364",
   "metadata": {},
   "outputs": [
    {
     "name": "stdout",
     "output_type": "stream",
     "text": [
      "--------------------------------------------------\n",
      "Found test client: ZZ00103621 - #CHIBOP\n",
      "Constructed address string: '3 - 1805 ROSSER AVENUE, BURNABY, BC V5C 6R4, V5C 6R4'\n",
      "Initializing GoogleMapsClient...\n",
      "Calling geocode_and_save()...\n",
      "SUCCESS: Geocoded and saved Address object with place_id: Ei8xODA1IFJvc3NlciBBdmUgIzMsIEJ1cm5hYnksIEJDIFY1QyA2UjMsIENhbmFkYSIdGhsKFgoUChIJ-e4LGS53hlQR74L0cTbt57oSATM\n",
      "         Formatted Address: 1805 Rosser Ave #3, Burnaby, BC V5C 6R3, Canada\n",
      "\n",
      "Linking address to client...\n",
      "Client updated successfully!\n",
      "\n",
      "VERIFICATION: Client's new address is: 1805 Rosser Ave #3, Burnaby, BC V5C 6R3, Canada\n",
      "--------------------------------------------------\n"
     ]
    }
   ],
   "source": [
    "from client.models import Client\n",
    "from DAO.adresses_DAO import GoogleMapsClient\n",
    "\n",
    "# --- Find a suitable test client ---\n",
    "test_client = Client.objects.filter(address__isnull=True).exclude(address1='').first()\n",
    "\n",
    "if test_client:\n",
    "    print(\"--------------------------------------------------\")\n",
    "    print(f\"Found test client: {test_client.account_number} - {test_client.name}\")\n",
    "    \n",
    "    # --- Construct the full address string ---\n",
    "    address_parts = [test_client.address1, test_client.address2, test_client.postal_code]\n",
    "    full_address = \", \".join(part.strip() for part in address_parts if part and part.strip())\n",
    "    print(f\"Constructed address string: '{full_address}'\")\n",
    "\n",
    "    # --- Initialize the Google Maps client ---\n",
    "    print(\"Initializing GoogleMapsClient...\")\n",
    "    gmaps_client = GoogleMapsClient()\n",
    "\n",
    "    # --- Call the geocoder ---\n",
    "    print(\"Calling geocode_and_save()...\")\n",
    "    try:\n",
    "        address_obj = gmaps_client.geocode_and_save(full_address)\n",
    "\n",
    "        # --- Check the result and link the address ---\n",
    "        if address_obj:\n",
    "            print(f\"SUCCESS: Geocoded and saved Address object with place_id: {address_obj.place_id}\")\n",
    "            print(\"         Formatted Address:\", address_obj.formatted)\n",
    "            \n",
    "            print(\"\\nLinking address to client...\")\n",
    "            test_client.address = address_obj\n",
    "            test_client.save(update_fields=['address'])\n",
    "            print(\"Client updated successfully!\")\n",
    "            \n",
    "            # --- Verification ---\n",
    "            refreshed_client = Client.objects.get(pk=test_client.pk)\n",
    "            print(f\"\\nVERIFICATION: Client's new address is: {refreshed_client.address}\")\n",
    "            print(\"--------------------------------------------------\")\n",
    "        else:\n",
    "            print(\"--------------------------------------------------\")\n",
    "            print(\"TEST FAILED: Geocoding did not return a valid address object.\")\n",
    "            print(\"This could be due to an invalid API key, billing issues, or the address not being found by Google.\")\n",
    "            print(\"--------------------------------------------------\")\n",
    "            \n",
    "    except Exception as e:\n",
    "        print(\"--------------------------------------------------\")\n",
    "        print(f\"AN ERROR OCCURRED: {e}\")\n",
    "        print(\"--------------------------------------------------\")\n",
    "else:\n",
    "    print(\"--------------------------------------------------\")\n",
    "    print(\"No suitable test client found. All clients either have a standardized address or no legacy address data.\")\n",
    "    print(\"--------------------------------------------------\")"
   ]
  },
  {
   "cell_type": "code",
   "execution_count": null,
   "id": "99dfe8c9-06fd-4859-afda-f343e9d6a747",
   "metadata": {},
   "outputs": [],
   "source": []
  }
 ],
 "metadata": {
  "kernelspec": {
   "display_name": "Hobart (.venv)",
   "language": "python",
   "name": "hobart-venv"
  },
  "language_info": {
   "codemirror_mode": {
    "name": "ipython",
    "version": 3
   },
   "file_extension": ".py",
   "mimetype": "text/x-python",
   "name": "python",
   "nbconvert_exporter": "python",
   "pygments_lexer": "ipython3",
   "version": "3.12.8"
  }
 },
 "nbformat": 4,
 "nbformat_minor": 5
}
