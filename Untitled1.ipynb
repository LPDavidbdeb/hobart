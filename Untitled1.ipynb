{
 "cells": [
  {
   "cell_type": "code",
   "execution_count": 1,
   "id": "467861a0-cea1-499e-aede-fe100126a1d3",
   "metadata": {},
   "outputs": [
    {
     "ename": "AppRegistryNotReady",
     "evalue": "Apps aren't loaded yet.",
     "output_type": "error",
     "traceback": [
      "\u001b[31m---------------------------------------------------------------------------\u001b[39m",
      "\u001b[31mAppRegistryNotReady\u001b[39m                       Traceback (most recent call last)",
      "\u001b[36mCell\u001b[39m\u001b[36m \u001b[39m\u001b[32mIn[1]\u001b[39m\u001b[32m, line 1\u001b[39m\n\u001b[32m----> \u001b[39m\u001b[32m1\u001b[39m \u001b[38;5;28;01mfrom\u001b[39;00m\u001b[38;5;250m \u001b[39m\u001b[34;01mclient\u001b[39;00m\u001b[34;01m.\u001b[39;00m\u001b[34;01mmodels\u001b[39;00m\u001b[38;5;250m \u001b[39m\u001b[38;5;28;01mimport\u001b[39;00m Client\n\u001b[32m      2\u001b[39m \u001b[38;5;28;01mfrom\u001b[39;00m\u001b[38;5;250m \u001b[39m\u001b[34;01mDAO\u001b[39;00m\u001b[34;01m.\u001b[39;00m\u001b[34;01madresses_DAO\u001b[39;00m\u001b[38;5;250m \u001b[39m\u001b[38;5;28;01mimport\u001b[39;00m GoogleMapsClient\n\u001b[32m      4\u001b[39m \u001b[38;5;66;03m# --- Find a suitable test client ---\u001b[39;00m\n",
      "\u001b[36mFile \u001b[39m\u001b[32m~/Sites/Hobart/client/models.py:2\u001b[39m\n\u001b[32m      1\u001b[39m \u001b[38;5;28;01mfrom\u001b[39;00m\u001b[38;5;250m \u001b[39m\u001b[34;01mdjango\u001b[39;00m\u001b[34;01m.\u001b[39;00m\u001b[34;01mdb\u001b[39;00m\u001b[38;5;250m \u001b[39m\u001b[38;5;28;01mimport\u001b[39;00m models\n\u001b[32m----> \u001b[39m\u001b[32m2\u001b[39m \u001b[38;5;28;01mfrom\u001b[39;00m\u001b[38;5;250m \u001b[39m\u001b[34;01maddress\u001b[39;00m\u001b[34;01m.\u001b[39;00m\u001b[34;01mmodels\u001b[39;00m\u001b[38;5;250m \u001b[39m\u001b[38;5;28;01mimport\u001b[39;00m Address\n\u001b[32m      3\u001b[39m \u001b[38;5;28;01mfrom\u001b[39;00m\u001b[38;5;250m \u001b[39m\u001b[34;01morganization\u001b[39;00m\u001b[34;01m.\u001b[39;00m\u001b[34;01mmodels\u001b[39;00m\u001b[38;5;250m \u001b[39m\u001b[38;5;28;01mimport\u001b[39;00m Territory, CodeDimension\n\u001b[32m      5\u001b[39m \u001b[38;5;66;03m# --- Dimension Models ---\u001b[39;00m\n",
      "\u001b[36mFile \u001b[39m\u001b[32m~/Sites/Hobart/address/models.py:4\u001b[39m\n\u001b[32m      1\u001b[39m \u001b[38;5;28;01mfrom\u001b[39;00m\u001b[38;5;250m \u001b[39m\u001b[34;01mdjango\u001b[39;00m\u001b[34;01m.\u001b[39;00m\u001b[34;01mdb\u001b[39;00m\u001b[38;5;250m \u001b[39m\u001b[38;5;28;01mimport\u001b[39;00m models\n\u001b[32m      2\u001b[39m \u001b[38;5;28;01mimport\u001b[39;00m\u001b[38;5;250m \u001b[39m\u001b[34;01mdecimal\u001b[39;00m\n\u001b[32m----> \u001b[39m\u001b[32m4\u001b[39m \u001b[38;5;28;43;01mclass\u001b[39;49;00m\u001b[38;5;250;43m \u001b[39;49m\u001b[34;43;01mFSA\u001b[39;49;00m\u001b[43m(\u001b[49m\u001b[43mmodels\u001b[49m\u001b[43m.\u001b[49m\u001b[43mModel\u001b[49m\u001b[43m)\u001b[49m\u001b[43m:\u001b[49m\n\u001b[32m      5\u001b[39m \u001b[38;5;250;43m    \u001b[39;49m\u001b[33;43;03m\"\"\"Represents a Forward Sortation Area (e.g., the first three characters of a Canadian postal code).\"\"\"\u001b[39;49;00m\n\u001b[32m      6\u001b[39m \u001b[43m    \u001b[49m\u001b[43mcode\u001b[49m\u001b[43m \u001b[49m\u001b[43m=\u001b[49m\u001b[43m \u001b[49m\u001b[43mmodels\u001b[49m\u001b[43m.\u001b[49m\u001b[43mCharField\u001b[49m\u001b[43m(\u001b[49m\u001b[43mmax_length\u001b[49m\u001b[43m=\u001b[49m\u001b[32;43m50\u001b[39;49m\u001b[43m,\u001b[49m\u001b[43m \u001b[49m\u001b[43munique\u001b[49m\u001b[43m=\u001b[49m\u001b[38;5;28;43;01mTrue\u001b[39;49;00m\u001b[43m,\u001b[49m\u001b[43m \u001b[49m\u001b[43mdb_index\u001b[49m\u001b[43m=\u001b[49m\u001b[38;5;28;43;01mTrue\u001b[39;49;00m\u001b[43m,\u001b[49m\u001b[43m \u001b[49m\u001b[43mhelp_text\u001b[49m\u001b[43m=\u001b[49m\u001b[33;43m\"\u001b[39;49m\u001b[33;43mThe unique code for this FSA.\u001b[39;49m\u001b[33;43m\"\u001b[39;49m\u001b[43m)\u001b[49m\n",
      "\u001b[36mFile \u001b[39m\u001b[32m~/Sites/Hobart/.venv/lib/python3.12/site-packages/django/db/models/base.py:131\u001b[39m, in \u001b[36mModelBase.__new__\u001b[39m\u001b[34m(cls, name, bases, attrs, **kwargs)\u001b[39m\n\u001b[32m    128\u001b[39m app_label = \u001b[38;5;28;01mNone\u001b[39;00m\n\u001b[32m    130\u001b[39m \u001b[38;5;66;03m# Look for an application configuration to attach the model to.\u001b[39;00m\n\u001b[32m--> \u001b[39m\u001b[32m131\u001b[39m app_config = \u001b[43mapps\u001b[49m\u001b[43m.\u001b[49m\u001b[43mget_containing_app_config\u001b[49m\u001b[43m(\u001b[49m\u001b[43mmodule\u001b[49m\u001b[43m)\u001b[49m\n\u001b[32m    133\u001b[39m \u001b[38;5;28;01mif\u001b[39;00m \u001b[38;5;28mgetattr\u001b[39m(meta, \u001b[33m\"\u001b[39m\u001b[33mapp_label\u001b[39m\u001b[33m\"\u001b[39m, \u001b[38;5;28;01mNone\u001b[39;00m) \u001b[38;5;129;01mis\u001b[39;00m \u001b[38;5;28;01mNone\u001b[39;00m:\n\u001b[32m    134\u001b[39m     \u001b[38;5;28;01mif\u001b[39;00m app_config \u001b[38;5;129;01mis\u001b[39;00m \u001b[38;5;28;01mNone\u001b[39;00m:\n",
      "\u001b[36mFile \u001b[39m\u001b[32m~/Sites/Hobart/.venv/lib/python3.12/site-packages/django/apps/registry.py:260\u001b[39m, in \u001b[36mApps.get_containing_app_config\u001b[39m\u001b[34m(self, object_name)\u001b[39m\n\u001b[32m    251\u001b[39m \u001b[38;5;28;01mdef\u001b[39;00m\u001b[38;5;250m \u001b[39m\u001b[34mget_containing_app_config\u001b[39m(\u001b[38;5;28mself\u001b[39m, object_name):\n\u001b[32m    252\u001b[39m \u001b[38;5;250m    \u001b[39m\u001b[33;03m\"\"\"\u001b[39;00m\n\u001b[32m    253\u001b[39m \u001b[33;03m    Look for an app config containing a given object.\u001b[39;00m\n\u001b[32m    254\u001b[39m \n\u001b[32m   (...)\u001b[39m\u001b[32m    258\u001b[39m \u001b[33;03m    Return None if the object isn't in any registered app config.\u001b[39;00m\n\u001b[32m    259\u001b[39m \u001b[33;03m    \"\"\"\u001b[39;00m\n\u001b[32m--> \u001b[39m\u001b[32m260\u001b[39m     \u001b[38;5;28;43mself\u001b[39;49m\u001b[43m.\u001b[49m\u001b[43mcheck_apps_ready\u001b[49m\u001b[43m(\u001b[49m\u001b[43m)\u001b[49m\n\u001b[32m    261\u001b[39m     candidates = []\n\u001b[32m    262\u001b[39m     \u001b[38;5;28;01mfor\u001b[39;00m app_config \u001b[38;5;129;01min\u001b[39;00m \u001b[38;5;28mself\u001b[39m.app_configs.values():\n",
      "\u001b[36mFile \u001b[39m\u001b[32m~/Sites/Hobart/.venv/lib/python3.12/site-packages/django/apps/registry.py:138\u001b[39m, in \u001b[36mApps.check_apps_ready\u001b[39m\u001b[34m(self)\u001b[39m\n\u001b[32m    134\u001b[39m \u001b[38;5;66;03m# If \"not ready\" is due to unconfigured settings, accessing\u001b[39;00m\n\u001b[32m    135\u001b[39m \u001b[38;5;66;03m# INSTALLED_APPS raises a more helpful ImproperlyConfigured\u001b[39;00m\n\u001b[32m    136\u001b[39m \u001b[38;5;66;03m# exception.\u001b[39;00m\n\u001b[32m    137\u001b[39m settings.INSTALLED_APPS\n\u001b[32m--> \u001b[39m\u001b[32m138\u001b[39m \u001b[38;5;28;01mraise\u001b[39;00m AppRegistryNotReady(\u001b[33m\"\u001b[39m\u001b[33mApps aren\u001b[39m\u001b[33m'\u001b[39m\u001b[33mt loaded yet.\u001b[39m\u001b[33m\"\u001b[39m)\n",
      "\u001b[31mAppRegistryNotReady\u001b[39m: Apps aren't loaded yet."
     ]
    }
   ],
   "source": [
    "from client.models import Client\n",
    "from DAO.adresses_DAO import GoogleMapsClient\n",
    "\n",
    "# --- Find a suitable test client ---\n",
    "test_client = Client.objects.filter(address__isnull=True).exclude(address1='').first()\n",
    "\n",
    "if test_client:\n",
    "    print(\"--------------------------------------------------\")\n",
    "    print(f\"Found test client: {test_client.account_number} - {test_client.name}\")\n",
    "    \n",
    "    # --- Construct the full address string ---\n",
    "    address_parts = [test_client.address1, test_client.address2, test_client.postal_code]\n",
    "    full_address = \", \".join(part.strip() for part in address_parts if part and part.strip())\n",
    "    print(f\"Constructed address string: '{full_address}'\")\n",
    "\n",
    "    # --- Initialize the Google Maps client ---\n",
    "    print(\"Initializing GoogleMapsClient...\")\n",
    "    gmaps_client = GoogleMapsClient()\n",
    "\n",
    "    # --- Call the geocoder ---\n",
    "    print(\"Calling geocode_and_save()...\")\n",
    "    try:\n",
    "        address_obj = gmaps_client.geocode_and_save(full_address)\n",
    "\n",
    "        # --- Check the result and link the address ---\n",
    "        if address_obj:\n",
    "            print(f\"SUCCESS: Geocoded and saved Address object with place_id: {address_obj.place_id}\")\n",
    "            print(\"         Formatted Address:\", address_obj.formatted)\n",
    "            \n",
    "            print(\"\\nLinking address to client...\")\n",
    "            test_client.address = address_obj\n",
    "            test_client.save(update_fields=['address'])\n",
    "            print(\"Client updated successfully!\")\n",
    "            \n",
    "            # --- Verification ---\n",
    "            refreshed_client = Client.objects.get(pk=test_client.pk)\n",
    "            print(f\"\\nVERIFICATION: Client's new address is: {refreshed_client.address}\")\n",
    "            print(\"--------------------------------------------------\")\n",
    "        else:\n",
    "            print(\"--------------------------------------------------\")\n",
    "            print(\"TEST FAILED: Geocoding did not return a valid address object.\")\n",
    "            print(\"This could be due to an invalid API key, billing issues, or the address not being found by Google.\")\n",
    "            print(\"--------------------------------------------------\")\n",
    "            \n",
    "    except Exception as e:\n",
    "        print(\"--------------------------------------------------\")\n",
    "        print(f\"AN ERROR OCCURRED: {e}\")\n",
    "        print(\"--------------------------------------------------\")\n",
    "else:\n",
    "    print(\"--------------------------------------------------\")\n",
    "    print(\"No suitable test client found. All clients either have a standardized address or no legacy address data.\")\n",
    "    print(\"--------------------------------------------------\")"
   ]
  },
  {
   "cell_type": "code",
   "execution_count": null,
   "id": "4020b858-3149-4f75-b7c6-065094cf41f7",
   "metadata": {},
   "outputs": [],
   "source": []
  }
 ],
 "metadata": {
  "kernelspec": {
   "display_name": "Hobart (.venv)",
   "language": "python",
   "name": "hobart-venv"
  },
  "language_info": {
   "codemirror_mode": {
    "name": "ipython",
    "version": 3
   },
   "file_extension": ".py",
   "mimetype": "text/x-python",
   "name": "python",
   "nbconvert_exporter": "python",
   "pygments_lexer": "ipython3",
   "version": "3.12.8"
  }
 },
 "nbformat": 4,
 "nbformat_minor": 5
}
